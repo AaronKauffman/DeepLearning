{
  "nbformat": 4,
  "nbformat_minor": 0,
  "metadata": {
    "kernelspec": {
      "display_name": "tensorflow",
      "language": "python",
      "name": "tensorflow"
    },
    "language_info": {
      "codemirror_mode": {
        "name": "ipython",
        "version": 3
      },
      "file_extension": ".py",
      "mimetype": "text/x-python",
      "name": "python",
      "nbconvert_exporter": "python",
      "pygments_lexer": "ipython3",
      "version": "3.6.10"
    },
    "colab": {
      "name": "HW1_Visulaization_Optimization.ipynb",
      "provenance": [],
      "collapsed_sections": [],
      "include_colab_link": true
    }
  },
  "cells": [
    {
      "cell_type": "markdown",
      "metadata": {
        "id": "view-in-github",
        "colab_type": "text"
      },
      "source": [
        "<a href=\"https://colab.research.google.com/github/AaronKauffman/DeepLearning/blob/master/HW1_Visulaization_Optimization.ipynb\" target=\"_parent\"><img src=\"https://colab.research.google.com/assets/colab-badge.svg\" alt=\"Open In Colab\"/></a>"
      ]
    },
    {
      "cell_type": "code",
      "metadata": {
        "id": "js1uL4-scXWX",
        "colab_type": "code",
        "colab": {
          "base_uri": "https://localhost:8080/",
          "height": 63
        },
        "outputId": "6294c520-7fdd-4c9a-d8fc-e0c6cc7e7fc7"
      },
      "source": [
        "%matplotlib inline\n",
        "import matplotlib.pyplot as plt\n",
        "import tensorflow as tf\n",
        "import numpy as np\n",
        "import math\n",
        "tf.logging.set_verbosity(tf.logging.ERROR)  # or any {DEBUG, INFO, WARN, ERROR, FATAL}"
      ],
      "execution_count": 1,
      "outputs": [
        {
          "output_type": "display_data",
          "data": {
            "text/html": [
              "<p style=\"color: red;\">\n",
              "The default version of TensorFlow in Colab will soon switch to TensorFlow 2.x.<br>\n",
              "We recommend you <a href=\"https://www.tensorflow.org/guide/migrate\" target=\"_blank\">upgrade</a> now \n",
              "or ensure your notebook will continue to use TensorFlow 1.x via the <code>%tensorflow_version 1.x</code> magic:\n",
              "<a href=\"https://colab.research.google.com/notebooks/tensorflow_version.ipynb\" target=\"_blank\">more info</a>.</p>\n"
            ],
            "text/plain": [
              "<IPython.core.display.HTML object>"
            ]
          },
          "metadata": {
            "tags": []
          }
        }
      ]
    },
    {
      "cell_type": "code",
      "metadata": {
        "id": "XMgqdoDecXWe",
        "colab_type": "code",
        "colab": {
          "base_uri": "https://localhost:8080/",
          "height": 85
        },
        "outputId": "c6ebc9d4-b4e2-4497-a803-e572bfd8cdd7"
      },
      "source": [
        "from tensorflow.examples.tutorials.mnist import input_data\n",
        "data = input_data.read_data_sets('data/MNIST/', one_hot=True)"
      ],
      "execution_count": 2,
      "outputs": [
        {
          "output_type": "stream",
          "text": [
            "Extracting data/MNIST/train-images-idx3-ubyte.gz\n",
            "Extracting data/MNIST/train-labels-idx1-ubyte.gz\n",
            "Extracting data/MNIST/t10k-images-idx3-ubyte.gz\n",
            "Extracting data/MNIST/t10k-labels-idx1-ubyte.gz\n"
          ],
          "name": "stdout"
        }
      ]
    },
    {
      "cell_type": "code",
      "metadata": {
        "id": "wrjeRe2tcXWj",
        "colab_type": "code",
        "colab": {
          "base_uri": "https://localhost:8080/",
          "height": 34
        },
        "outputId": "fea11746-fda7-4fa9-f47c-42070ecb3082"
      },
      "source": [
        "\n",
        "data.test.cls = np.argmax(data.test.labels, axis=1)\n",
        "\n",
        "print(data.test.cls)"
      ],
      "execution_count": 3,
      "outputs": [
        {
          "output_type": "stream",
          "text": [
            "[7 2 1 ... 4 5 6]\n"
          ],
          "name": "stdout"
        }
      ]
    },
    {
      "cell_type": "code",
      "metadata": {
        "id": "w_SLAKl1cXWn",
        "colab_type": "code",
        "colab": {}
      },
      "source": [
        "img_size = 28\n",
        "img_size_flat = img_size * img_size\n",
        "img_shape = (img_size, img_size)\n",
        "num_channels = 1\n",
        "num_classes = 10"
      ],
      "execution_count": 0,
      "outputs": []
    },
    {
      "cell_type": "code",
      "metadata": {
        "id": "5oVanSTncXWq",
        "colab_type": "code",
        "colab": {}
      },
      "source": [
        "\n",
        "def plot_images(images, cls_true, cls_pred=None):\n",
        "    assert len(images) == len(cls_true) == 9\n",
        "    \n",
        "    # Create figure with 3x3 sub-plots.\n",
        "    fig, axes = plt.subplots(3, 3)\n",
        "    fig.subplots_adjust(hspace=0.3, wspace=0.3)\n",
        "\n",
        "    for i, ax in enumerate(axes.flat):\n",
        "        # Plot image.\n",
        "        ax.imshow(images[i].reshape(img_shape), cmap='binary')\n",
        "\n",
        "        # Show true and predicted classes.\n",
        "        if cls_pred is None:\n",
        "            xlabel = \"True: {0}\".format(cls_true[i])\n",
        "        else:\n",
        "            xlabel = \"True: {0}, Pred: {1}\".format(cls_true[i], cls_pred[i])\n",
        "\n",
        "        # Show the classes as the label on the x-axis.\n",
        "        ax.set_xlabel(xlabel)\n",
        "        \n",
        "        # Remove ticks from the plot.\n",
        "        ax.set_xticks([])\n",
        "        ax.set_yticks([])\n",
        "    \n",
        "    # Ensure the plot is shown correctly with multiple plots\n",
        "    # in a single Notebook cell.\n",
        "    plt.show()"
      ],
      "execution_count": 0,
      "outputs": []
    },
    {
      "cell_type": "code",
      "metadata": {
        "id": "zOtgMoc1cXWt",
        "colab_type": "code",
        "colab": {
          "base_uri": "https://localhost:8080/",
          "height": 279
        },
        "outputId": "c89b3f26-97d9-4663-f53d-f8cc368bdc44"
      },
      "source": [
        "\n",
        "# Get the first images from the test-set.\n",
        "images = data.test.images[0:9]\n",
        "\n",
        "# Get the true classes for those images.\n",
        "cls_true = data.test.cls[0:9]\n",
        "print(cls_true)\n",
        "\n",
        "# Plot the images and labels using our helper-function above.\n",
        "plot_images(images=images, cls_true=cls_true)"
      ],
      "execution_count": 6,
      "outputs": [
        {
          "output_type": "stream",
          "text": [
            "[7 2 1 0 4 1 4 9 5]\n"
          ],
          "name": "stdout"
        },
        {
          "output_type": "display_data",
          "data": {
            "image/png": "[encoded data removed]",
            "text/plain": [
              "<Figure size 432x288 with 9 Axes>"
            ]
          },
          "metadata": {
            "tags": []
          }
        }
      ]
    },
    {
      "cell_type": "code",
      "metadata": {
        "id": "Fir5mmCPcXWz",
        "colab_type": "code",
        "colab": {}
      },
      "source": [
        "x = tf.placeholder(tf.float32, shape=[None, img_size_flat], name='x')"
      ],
      "execution_count": 0,
      "outputs": []
    },
    {
      "cell_type": "code",
      "metadata": {
        "id": "97HHopbycXW2",
        "colab_type": "code",
        "colab": {}
      },
      "source": [
        "x_image = tf.reshape(x, [-1, img_size, img_size, num_channels])"
      ],
      "execution_count": 0,
      "outputs": []
    },
    {
      "cell_type": "code",
      "metadata": {
        "id": "lRjbByH6cXW6",
        "colab_type": "code",
        "colab": {}
      },
      "source": [
        "y_true = tf.placeholder(tf.float32, shape=[None, num_classes], name='y_true')"
      ],
      "execution_count": 0,
      "outputs": []
    },
    {
      "cell_type": "code",
      "metadata": {
        "id": "2pD2GJyxcXW9",
        "colab_type": "code",
        "colab": {}
      },
      "source": [
        "y_true_cls = tf.argmax(y_true, dimension=1)"
      ],
      "execution_count": 0,
      "outputs": []
    },
    {
      "cell_type": "code",
      "metadata": {
        "id": "UK6_X5kAdVk6",
        "colab_type": "code",
        "colab": {}
      },
      "source": [
        "def get_weights_variable(layer_name):\n",
        "    with tf.variable_scope(layer_name, reuse=True):\n",
        "        variable = tf.get_variable('kernel')\n",
        "\n",
        "    return variable"
      ],
      "execution_count": 0,
      "outputs": []
    },
    {
      "cell_type": "code",
      "metadata": {
        "id": "Mtey1uSecXXA",
        "colab_type": "code",
        "colab": {}
      },
      "source": [
        "def runModel(num_train):\n",
        "    global total_iterations\n",
        "    \n",
        "    weights_train = []\n",
        "    #run 10 models\n",
        "    for i in range(0,num_train):\n",
        "\n",
        "        #all the labels need a model number to be distinct and not cause an error\n",
        "        conv1_label = 'layer_conv1_M' + str(i)\n",
        "        conv2_label = 'layer_conv2_M' + str(i)\n",
        "        fc_label = 'layer_fc1_M' + str(i)\n",
        "        out_label = 'layer_fc_out_M' + str(i)\n",
        "        #Convolusional layer 1\n",
        "        net = tf.layers.conv2d(inputs=x_image, name=conv1_label, padding='same', filters=16, kernel_size=5, activation=tf.nn.relu)\n",
        "        net = tf.layers.max_pooling2d(inputs=net, pool_size=2, strides=2)\n",
        "\n",
        "        #Convolusional layer 2\n",
        "        net = tf.layers.conv2d(inputs=net, name=conv2_label, padding='same', filters=36, kernel_size=5, activation=tf.nn.relu)\n",
        "        net = tf.layers.max_pooling2d(inputs=net, pool_size=2, strides=2)\n",
        "\n",
        "        #Flatten layer\n",
        "        net = tf.layers.flatten(net)\n",
        "\n",
        "        #Fully connected layer\n",
        "        net = tf.layers.dense(inputs=net, name=fc_label, units=128, activation=tf.nn.relu)\n",
        "\n",
        "        #output layer\n",
        "        logits = tf.layers.dense(inputs=net, name=out_label, units=num_classes, activation=None)\n",
        "        #------\n",
        "        y_pred = tf.nn.softmax(logits=logits)\n",
        "        y_pred_cls = tf.argmax(y_pred, dimension=1)\n",
        "\n",
        "        cross_entropy = tf.nn.softmax_cross_entropy_with_logits(labels=y_true, logits=logits)\n",
        "\n",
        "        loss = tf.reduce_mean(cross_entropy )\n",
        "\n",
        "        opt = tf.train.AdamOptimizer(learning_rate=1e-4)\n",
        "        optimizer = opt.minimize(loss )\n",
        "\n",
        "        correct_prediction = tf.equal(y_pred_cls, y_true_cls)\n",
        "        accuracy = tf.reduce_mean(tf.cast(correct_prediction, tf.float32))\n",
        "        #-----\n",
        "        trainable_var_list = tf.trainable_variables()\n",
        "        #------\n",
        "        weights_conv1 = get_weights_variable(conv1_label)\n",
        "        weights_conv2 = get_weights_variable(conv2_label)\n",
        "        weights_fc1 = get_weights_variable(fc_label)\n",
        "        weights_fc_out = get_weights_variable(out_label)\n",
        "        #-------\n",
        "        session = tf.Session()\n",
        "        session.run(tf.global_variables_initializer())\n",
        "        batch_size = 64\n",
        "        #------\n",
        "        weight_vals=[]\n",
        "        for i in range(0,30):\n",
        "            x_batch, y_true_batch = data.train.next_batch(batch_size)\n",
        "\n",
        "            feed_dict_train = {x: x_batch, y_true: y_true_batch}\n",
        "\n",
        "            session.run(optimizer, feed_dict=feed_dict_train)\n",
        "            # record values every 3 epochs.\n",
        "            if i % 3 == 0:\n",
        "            #loss_train_val = session.run(loss, feed_dict=feed_dict_train)\n",
        "            #acc_train_val = session.run(accuracy, feed_dict=feed_dict_train)\n",
        "                weight_vals = np.append(weight_vals, session.run(weights_fc1))\n",
        "                #print(session.run(weights_fc1)[0])\n",
        "\n",
        "        print(weight_vals)\n",
        "        #-------\n",
        "        #weights_array = np.concatenate(weight_vals, axis=0)\n",
        "        #print(weights_array)\n",
        "        weights_train.append(weight_vals)\n",
        "        #print(weights_train)\n",
        "        #---------\n",
        "        session.close()\n",
        "    weights_list.append(weights_train)"
      ],
      "execution_count": 0,
      "outputs": []
    },
    {
      "cell_type": "code",
      "metadata": {
        "id": "edr-DLhzcXXF",
        "colab_type": "code",
        "colab": {
          "base_uri": "https://localhost:8080/",
          "height": 289
        },
        "outputId": "dc9dd9df-ebdf-4447-b5b1-b8f904a36540"
      },
      "source": [
        "weights_list = []\n",
        "\n",
        "runModel(8)\n",
        "#print(weights_list)"
      ],
      "execution_count": 13,
      "outputs": [
        {
          "output_type": "stream",
          "text": [
            "[-0.05054864 -0.02973551 -0.02689223 ... -0.04298056 -0.02985568\n",
            "  0.02217179]\n",
            "[ 0.05238428 -0.02897292  0.01506043 ... -0.0030097  -0.00202444\n",
            " -0.0106429 ]\n",
            "[ 0.01279339  0.03989588  0.03283026 ... -0.04710169  0.03470587\n",
            "  0.00818142]\n",
            "[ 0.00099677  0.01461452  0.03788839 ... -0.00845147  0.0378171\n",
            "  0.05816912]\n",
            "[ 0.05214959  0.0139059   0.00485063 ... -0.05378678 -0.00270598\n",
            "  0.02256187]\n",
            "[-0.00632768  0.00739252 -0.03216397 ...  0.04900751  0.01014699\n",
            " -0.01427535]\n",
            "[ 0.03125427  0.02715809 -0.02666008 ... -0.03854865 -0.04977448\n",
            "  0.00895185]\n",
            "[ 0.0537022  -0.04986601 -0.03721575 ... -0.01267921  0.04629509\n",
            "  0.018615  ]\n"
          ],
          "name": "stdout"
        }
      ]
    },
    {
      "cell_type": "code",
      "metadata": {
        "id": "PntK-2ETcXXI",
        "colab_type": "code",
        "colab": {}
      },
      "source": [
        "from sklearn.decomposition import PCA\n",
        "def plot_fc_weights(weights_list):\n",
        "    session = tf.Session()\n",
        "    session.run(tf.global_variables_initializer())\n",
        "    # Assume weights in weights_list are TensorFlow ops for 2-dim variables\n",
        "    \n",
        "    # Retrieve the values of the weight-variables from TensorFlow.\n",
        "    # A feed-dict is not necessary because nothing is calculated.\n",
        "    #w_list = session.run(weights_list)\n",
        "    \n",
        "    pca = PCA(n_components=2)\n",
        "    \n",
        "    fig = plt.figure(figsize = (8,8))\n",
        "    ax = fig.add_subplot(1,1,1) \n",
        "    ax.set_xlabel('Principal Component 1', fontsize = 15)\n",
        "    ax.set_ylabel('Principal Component 2', fontsize = 15)\n",
        "    ax.set_title('2 component PCA', fontsize = 20)\n",
        "    \n",
        "    count = 1\n",
        "    for w in weights_list:\n",
        "            \n",
        "        \n",
        "        #print(w.shape)\n",
        "        labelName = \"Train \"+str(count)\n",
        "        principalComponents = pca.fit_transform(w)\n",
        "\n",
        "        ax.scatter(principalComponents[:,0], principalComponents[:,1], label=labelName, alpha=0.5)\n",
        "        count += 1\n",
        "\n",
        "    ax.legend()\n",
        "    plt.show()"
      ],
      "execution_count": 0,
      "outputs": []
    },
    {
      "cell_type": "code",
      "metadata": {
        "id": "HrioI5pqcXXL",
        "colab_type": "code",
        "colab": {
          "base_uri": "https://localhost:8080/",
          "height": 523
        },
        "outputId": "4721273d-d50c-4cb6-9317-984a5d5c70a8"
      },
      "source": [
        "#print(weights_list)\n",
        "plot_fc_weights(weights_list)\n"
      ],
      "execution_count": 15,
      "outputs": [
        {
          "output_type": "display_data",
          "data": {
            "image/png": "[encoded data removed]",
            "text/plain": [
              "<Figure size 576x576 with 1 Axes>"
            ]
          },
          "metadata": {
            "tags": []
          }
        }
      ]
    },
    {
      "cell_type": "code",
      "metadata": {
        "id": "3NCwXqyacXXO",
        "colab_type": "code",
        "colab": {}
      },
      "source": [
        ""
      ],
      "execution_count": 0,
      "outputs": []
    },
    {
      "cell_type": "code",
      "metadata": {
        "id": "wmcCCsFdcXXS",
        "colab_type": "code",
        "colab": {}
      },
      "source": [
        ""
      ],
      "execution_count": 0,
      "outputs": []
    },
    {
      "cell_type": "code",
      "metadata": {
        "id": "fmtVGzZRcXXW",
        "colab_type": "code",
        "colab": {}
      },
      "source": [
        "\n",
        "# This has been commented out in case you want to modify and experiment\n",
        "# with the Notebook without having to restart it.\n",
        "# session.close()"
      ],
      "execution_count": 0,
      "outputs": []
    }
  ]
}