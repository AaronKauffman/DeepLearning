{
  "nbformat": 4,
  "nbformat_minor": 0,
  "metadata": {
    "colab": {
      "name": "SimulaterTF.ipynb",
      "provenance": []
    },
    "kernelspec": {
      "name": "python3",
      "display_name": "Python 3"
    }
  },
  "cells": [
    {
      "cell_type": "code",
      "metadata": {
        "colab_type": "code",
        "id": "0trJmd6DjqBZ",
        "colab": {
          "base_uri": "https://localhost:8080/",
          "height": 71
        },
        "outputId": "ce66cc15-571d-4222-b2eb-3c81b49c7ed6"
      },
      "source": [
        "%tensorflow_version 1.x \n",
        "import tensorflow as tf\n",
        "sess = tf.InteractiveSession()"
      ],
      "execution_count": 57,
      "outputs": [
        {
          "output_type": "stream",
          "text": [
            "/usr/local/lib/python3.6/dist-packages/tensorflow_core/python/client/session.py:1750: UserWarning: An interactive session is already active. This can cause out-of-memory errors in some cases. You must explicitly call `InteractiveSession.close()` to release resources held by the other session(s).\n",
            "  warnings.warn('An interactive session is already active. This can '\n"
          ],
          "name": "stderr"
        }
      ]
    },
    {
      "cell_type": "code",
      "metadata": {
        "colab_type": "code",
        "id": "7FP5258xjs-v",
        "colab": {}
      },
      "source": [
        "import numpy as np\n",
        "X =np.expand_dims(np.arange(0.0, 3.0, 0.01),1)\n",
        "Y =np.sinc(X)\n",
        "x = tf.placeholder(tf.float64, [300,1], name='x')\n",
        "y = tf.placeholder(tf.float64, [300,1], name='y')"
      ],
      "execution_count": 0,
      "outputs": []
    },
    {
      "cell_type": "code",
      "metadata": {
        "id": "hv-SS6oHAZcK",
        "colab_type": "code",
        "colab": {}
      },
      "source": [
        "input_layer = tf.layers.dense(x, 300, activation= tf.nn.relu)\n",
        "hidden_layer = tf.layers.dropout(input_layer,0.2)\n",
        "output_layer = tf.layers.dense(hidden_layer,1)\n",
        "Loss =tf.losses.mean_squared_error(y , output_layer)\n",
        "Optimizer = tf.train.AdamOptimizer(learning_rate= 0.001).minimize(Loss)\n",
        "init = tf.global_variables_initializer()"
      ],
      "execution_count": 0,
      "outputs": []
    },
    {
      "cell_type": "code",
      "metadata": {
        "id": "SWaI9morFxJ2",
        "colab_type": "code",
        "colab": {}
      },
      "source": [
        "loss_list=[]\n",
        "sess.run(init)\n",
        "for i in range(0,1000):\n",
        "  fd ={x:X, y:Y}\n",
        "  _, loss_val = sess.run([Optimizer, Loss], feed_dict=fd)\n",
        "  #print ('loss = %s' % loss_val)\n",
        "  loss_list.append(loss_val)\n",
        "\n",
        "YP = sess.run(output_layer,feed_dict={x:X})"
      ],
      "execution_count": 0,
      "outputs": []
    },
    {
      "cell_type": "code",
      "metadata": {
        "id": "WYOZPnZXYd09",
        "colab_type": "code",
        "outputId": "16619ba9-e6f6-46cb-f895-52db45109712",
        "colab": {
          "base_uri": "https://localhost:8080/",
          "height": 295
        }
      },
      "source": [
        "# Plot training  loss values\n",
        "import matplotlib.pyplot as plt\n",
        "plt.plot(loss_list)\n",
        "plt.title('Model loss')\n",
        "plt.ylabel('Loss')\n",
        "plt.xlabel('Epoch')\n",
        "plt.show()"
      ],
      "execution_count": 61,
      "outputs": [
        {
          "output_type": "display_data",
          "data": {
            "image/png": "[encoded data removed]",
            "text/plain": [
              "<Figure size 432x288 with 1 Axes>"
            ]
          },
          "metadata": {
            "tags": []
          }
        }
      ]
    },
    {
      "cell_type": "code",
      "metadata": {
        "id": "nmhIKIJHY-Ol",
        "colab_type": "code",
        "outputId": "9d8e2a86-3f4c-460b-9199-bd7e13437e9f",
        "colab": {
          "base_uri": "https://localhost:8080/",
          "height": 265
        }
      },
      "source": [
        "plt.plot(X,Y)\n",
        "plt.plot(X,YP)\n",
        "plt.show()"
      ],
      "execution_count": 62,
      "outputs": [
        {
          "output_type": "display_data",
          "data": {
            "image/png": "[encoded data removed]",
            "text/plain": [
              "<Figure size 432x288 with 1 Axes>"
            ]
          },
          "metadata": {
            "tags": []
          }
        }
      ]
    }
  ]
}